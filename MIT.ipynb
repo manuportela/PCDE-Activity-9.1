{
 "cells": [
  {
   "cell_type": "markdown",
   "metadata": {},
   "source": [
    "# The Massachusetts Institute of Technology (MIT)\n",
    "\n",
    "**Manuel Portela - manuportela**\n",
    "\n",
    "The Massachusetts Institute of Technology (MIT) is a private university in Cambridge, Massachusetts. Established in 1861, MIT has since then been at the center of the development of modern technology and science. Since it was founded, MIT has been ranked among the top academic institutions in the world.\n",
    "\n",
    "The original logo was recommended by the Committee on the Seal, led by William Barton Rogers. It represents two figures symbolizing study and practical work. One of them reads a thick book, and the second holds a large blacksmith’s hammer in his hands, placed on an anvil. The image below displays the original logo.\n",
    "\n",
    "![MIT Original Logo](image.png \"MIT Original Logo\")"
   ]
  },
  {
   "cell_type": "code",
   "execution_count": null,
   "metadata": {},
   "outputs": [],
   "source": []
  }
 ],
 "metadata": {
  "kernelspec": {
   "display_name": "Python 3.9.16 ('base')",
   "language": "python",
   "name": "python3"
  },
  "language_info": {
   "codemirror_mode": {
    "name": "ipython",
    "version": 3
   },
   "file_extension": ".py",
   "mimetype": "text/x-python",
   "name": "python",
   "nbconvert_exporter": "python",
   "pygments_lexer": "ipython3",
   "version": "3.9.16"
  },
  "vscode": {
   "interpreter": {
    "hash": "e06ff7da33dc9620448857a90ad8b5f428f0d573d205a934d2841c8aee45ea32"
   }
  }
 },
 "nbformat": 4,
 "nbformat_minor": 4
}
